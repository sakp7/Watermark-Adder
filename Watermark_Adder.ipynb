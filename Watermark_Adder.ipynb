{
  "nbformat": 4,
  "nbformat_minor": 0,
  "metadata": {
    "colab": {
      "provenance": [],
      "authorship_tag": "ABX9TyN15pezEE/47qZ3uxGadzJb",
      "include_colab_link": true
    },
    "kernelspec": {
      "name": "python3",
      "display_name": "Python 3"
    },
    "language_info": {
      "name": "python"
    },
    "accelerator": "GPU",
    "gpuClass": "standard"
  },
  "cells": [
    {
      "cell_type": "markdown",
      "metadata": {
        "id": "view-in-github",
        "colab_type": "text"
      },
      "source": [
        "<a href=\"https://colab.research.google.com/github/sakp7/Watermark-Adder/blob/main/Watermark_Adder.ipynb\" target=\"_parent\"><img src=\"https://colab.research.google.com/assets/colab-badge.svg\" alt=\"Open In Colab\"/></a>"
      ]
    },
    {
      "cell_type": "markdown",
      "source": [
        "Water Mark Adder Project\n",
        " Required Libraries:\n",
        "  opencv\n",
        "  numpy\n",
        "  image"
      ],
      "metadata": {
        "id": "uqiKn3Hqw9hM"
      }
    },
    {
      "cell_type": "code",
      "execution_count": 1,
      "metadata": {
        "id": "7p2y-TwSwzMH"
      },
      "outputs": [],
      "source": [
        "# Important library imports\n",
        "import cv2\n",
        "import numpy as np\n",
        "import requests\n",
        "from PIL import Image"
      ]
    },
    {
      "cell_type": "markdown",
      "source": [
        " Here we take The picture we want to add the logo."
      ],
      "metadata": {
        "id": "8ShBcGwgxPHh"
      }
    },
    {
      "cell_type": "code",
      "source": [
        "image =Image.open(\"/content/blue.jfif\") #to not get error in this cell you need to replace the existing path with your path.\n",
        "#Here goes the path\n",
        "image_logow = image.resize((500,500))\n",
        "image_logow"
      ],
      "metadata": {
        "colab": {
          "base_uri": "https://localhost:8080/",
          "height": 517
        },
        "id": "Q9EYF0u7w-dB",
        "outputId": "ed245f1e-68bb-4253-8423-a1d1430ec605"
      },
      "execution_count": 4,
      "outputs": [
        {
          "output_type": "execute_result",
          "data": {
            "text/plain": [
              "<PIL.Image.Image image mode=RGB size=500x500 at 0x7F3651650820>"
            ],
            "image/png": "[encoded data removed]"
          },
          "metadata": {},
          "execution_count": 4
        }
      ]
    },
    {
      "cell_type": "markdown",
      "source": [
        "Here we take the logo."
      ],
      "metadata": {
        "id": "sG8Rio5zxhRk"
      }
    },
    {
      "cell_type": "code",
      "source": [
        "# Reading logo form url\n",
        "logo = Image.open(requests.get('https://wallpapercave.com/wp/wp3253627.png', stream=True).raw)\n",
        "logo = logo.resize((100,100))\n",
        "logo"
      ],
      "metadata": {
        "colab": {
          "base_uri": "https://localhost:8080/",
          "height": 117
        },
        "id": "HHpZ64qVxdoq",
        "outputId": "96b024d2-70be-46d2-fab2-c5cd559aacb0"
      },
      "execution_count": 7,
      "outputs": [
        {
          "output_type": "execute_result",
          "data": {
            "text/plain": [
              "<PIL.Image.Image image mode=P size=100x100 at 0x7F364F4D0FD0>"
            ],
            "image/png": "[encoded data removed]"
          },
          "metadata": {},
          "execution_count": 7
        }
      ]
    },
    {
      "cell_type": "markdown",
      "source": [
        "Now we need to find the roi(region of interest) to place our logo on the image."
      ],
      "metadata": {
        "id": "_4ObXZBOxsZv"
      }
    },
    {
      "cell_type": "code",
      "source": [
        "image_logow = np.array(image_logow.convert('RGB'))\n",
        "h_image, w_image, _ = image_logow.shape\n",
        "logo = np.array(logo.convert('RGB'))\n",
        "h_logo, w_logo, _ = logo.shape"
      ],
      "metadata": {
        "colab": {
          "base_uri": "https://localhost:8080/"
        },
        "id": "iH-WziBKx3z0",
        "outputId": "a46773c3-1c78-4d7d-dfe0-cc283ef3a5a5"
      },
      "execution_count": 8,
      "outputs": [
        {
          "output_type": "stream",
          "name": "stderr",
          "text": [
            "/usr/local/lib/python3.8/dist-packages/PIL/Image.py:959: UserWarning: Palette images with Transparency expressed in bytes should be converted to RGBA images\n",
            "  warnings.warn(\n"
          ]
        }
      ]
    },
    {
      "cell_type": "code",
      "source": [
        "# Get the center of the original. It's the location where we will place the watermark\n",
        "center_y = int(h_image / 4)\n",
        "center_x = int(w_image / 4)\n",
        "top_y = center_y - int(h_logo / 4)\n",
        "left_x = center_x - int(w_logo / 4)\n",
        "bottom_y = top_y + h_logo\n",
        "right_x = left_x + w_logo"
      ],
      "metadata": {
        "id": "OrYeK1D1x6tb"
      },
      "execution_count": 9,
      "outputs": []
    },
    {
      "cell_type": "code",
      "source": [
        "# Get ROI\n",
        "roi = image_logow[top_y: bottom_y, left_x: right_x]\n",
        "# Add the Logo to the Roi\n",
        "result = cv2.addWeighted(roi, 1, logo, 1, 0)\n",
        "# Drawing\n",
        "# Replace the ROI on the image\n",
        "image_logow[top_y: bottom_y, left_x: right_x] = result"
      ],
      "metadata": {
        "id": "6VEPH6F_x8sq"
      },
      "execution_count": 10,
      "outputs": []
    },
    {
      "cell_type": "code",
      "source": [
        "# Ploting logo watermark image\n",
        "img = Image.fromarray(image_logow, 'RGB')\n",
        "img"
      ],
      "metadata": {
        "colab": {
          "base_uri": "https://localhost:8080/",
          "height": 517
        },
        "id": "eemLi8Nsx-Nq",
        "outputId": "5b4547cf-fbdd-493d-a843-80b610a3654b"
      },
      "execution_count": 11,
      "outputs": [
        {
          "output_type": "execute_result",
          "data": {
            "text/plain": [
              "<PIL.Image.Image image mode=RGB size=500x500 at 0x7F366186ED60>"
            ],
            "image/png": "[encoded data removed]"
          },
          "metadata": {},
          "execution_count": 11
        }
      ]
    }
  ]
}